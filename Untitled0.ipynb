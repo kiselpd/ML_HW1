{
  "nbformat": 4,
  "nbformat_minor": 0,
  "metadata": {
    "colab": {
      "name": "Untitled0.ipynb",
      "provenance": [],
      "collapsed_sections": [],
      "authorship_tag": "ABX9TyMgUGTjMzMEFvnj7XiUS1lI",
      "include_colab_link": true
    },
    "kernelspec": {
      "name": "python3",
      "display_name": "Python 3"
    },
    "language_info": {
      "name": "python"
    }
  },
  "cells": [
    {
      "cell_type": "markdown",
      "metadata": {
        "id": "view-in-github",
        "colab_type": "text"
      },
      "source": [
        "<a href=\"https://colab.research.google.com/github/kiselpd/ML_HW1/blob/main/Untitled0.ipynb\" target=\"_parent\"><img src=\"https://colab.research.google.com/assets/colab-badge.svg\" alt=\"Open In Colab\"/></a>"
      ]
    },
    {
      "cell_type": "code",
      "execution_count": 3,
      "metadata": {
        "id": "iS6hVvFpQzG2"
      },
      "outputs": [],
      "source": [
        "%matplotlib inline\n",
        "import numpy as np"
      ]
    },
    {
      "cell_type": "code",
      "source": [
        "#1.1\n",
        "in_matrix=np.array([[1, 0, 1], [2, 0, 2], [3, 0, 2], [4, 4, 4]])\n",
        "out_matrix=np.diag(in_matrix)\n",
        "out_matrix=np.where(out_matrix, out_matrix, 1)\n",
        "diag_prod=np.prod(out_matrix)\n",
        "diag_prod"
      ],
      "metadata": {
        "colab": {
          "base_uri": "https://localhost:8080/"
        },
        "id": "azl_2kbvWGEh",
        "outputId": "c547d383-3001-4f27-cb13-edc4ff2a53be"
      },
      "execution_count": 27,
      "outputs": [
        {
          "output_type": "execute_result",
          "data": {
            "text/plain": [
              "2"
            ]
          },
          "metadata": {},
          "execution_count": 27
        }
      ]
    },
    {
      "cell_type": "code",
      "source": [
        "#1.2\n",
        "in_matrix=[[1, 0, 1], [2, 0, 2], [3, 0, 3], [4, 4, 4]]\n",
        "diag_prod=1\n",
        "for i in range(len(in_matrix[0])):\n",
        "  for j in range(len(in_matrix)):\n",
        "    if (i==j) and (in_matrix[i][j]>0):\n",
        "      diag_prod*=in_matrix[i][j]\n",
        "diag_prod"
      ],
      "metadata": {
        "colab": {
          "base_uri": "https://localhost:8080/"
        },
        "id": "nUoqd2GKuJMn",
        "outputId": "f821e5cd-47db-43af-da83-fe4e703f8451"
      },
      "execution_count": 26,
      "outputs": [
        {
          "output_type": "stream",
          "name": "stdout",
          "text": [
            "100000 loops, best of 5: 2.3 µs per loop\n"
          ]
        }
      ]
    },
    {
      "cell_type": "code",
      "source": [
        "#1.3\n",
        "in_matrix=np.array([[1, 0, 1], [2, 0, 2], [3, 0, 2], [4, 4, 4]])\n",
        "out_matrix=np.where(in_matrix>0,in_matrix, 1)\n",
        "num_rows, num_cows = in_matrix.shape\n",
        "diag_prod=np.prod(np.diag(np.eye(num_rows, num_cows)*out_matrix))\n",
        "diag_prod"
      ],
      "metadata": {
        "colab": {
          "base_uri": "https://localhost:8080/"
        },
        "id": "JcWLzOUQ5Phb",
        "outputId": "0ef7af7c-36a0-439e-fb9a-541561c733fc"
      },
      "execution_count": 286,
      "outputs": [
        {
          "output_type": "execute_result",
          "data": {
            "text/plain": [
              "2.0"
            ]
          },
          "metadata": {},
          "execution_count": 286
        }
      ]
    },
    {
      "cell_type": "code",
      "source": [
        "#3.1\n",
        "first_vec = np.array([1, 2, 2, 4])\n",
        "second_vec = np.array([4, 2, 1, 2])\n",
        "a=np.sort(first_vec)\n",
        "b=np.sort(second_vec)\n",
        "if(np.size(first_vec)==np.size(second_vec)):\n",
        "  out_bool=(a==b).all()\n",
        "else:\n",
        "  out_bool=False\n",
        "out_bool"
      ],
      "metadata": {
        "colab": {
          "base_uri": "https://localhost:8080/"
        },
        "id": "8T17stNzegWV",
        "outputId": "e2a64949-a24f-4276-c95a-e073e5a02b64"
      },
      "execution_count": 179,
      "outputs": [
        {
          "output_type": "execute_result",
          "data": {
            "text/plain": [
              "True"
            ]
          },
          "metadata": {},
          "execution_count": 179
        }
      ]
    },
    {
      "cell_type": "code",
      "source": [
        "#3.2\n",
        "first_vec = [1, 2, 2, 4]\n",
        "second_vec = [4, 2, 1, 2]\n",
        "out_bool=True\n",
        "if (set(first_vec)==set(second_vec)) and (len(first_vec)==len(second_vec)):\n",
        "  for a in set(first_vec):\n",
        "    if first_vec.count(a) != second_vec.count(a):\n",
        "      out_bool=False\n",
        "      break\n",
        "else:\n",
        "  out_bool=False\n",
        "out_bool"
      ],
      "metadata": {
        "colab": {
          "base_uri": "https://localhost:8080/"
        },
        "id": "3f0kHJxAkqI5",
        "outputId": "a0533bd7-89d7-4241-d44c-33dd48fde540"
      },
      "execution_count": 186,
      "outputs": [
        {
          "output_type": "execute_result",
          "data": {
            "text/plain": [
              "False"
            ]
          },
          "metadata": {},
          "execution_count": 186
        }
      ]
    },
    {
      "cell_type": "code",
      "source": [
        "#3.3\n",
        "first_vec = np.array([1, 1, 1, 4, 2])\n",
        "second_vec = np.array([2, 2, 2, 1, 4])\n",
        "unique1, counts1 = np.unique(first_vec, return_counts=True)\n",
        "unique2, counts2 = np.unique(second_vec, return_counts=True)\n",
        "if (np.size(first_vec)==np.size(second_vec)) and (np.size(unique1)==np.size(unique2)):\n",
        "  out_bool=(unique1==unique2).all() and (counts1==counts2).all()\n",
        "else:\n",
        "  out_bool=False\n",
        "out_bool"
      ],
      "metadata": {
        "colab": {
          "base_uri": "https://localhost:8080/"
        },
        "id": "rumabtFg3vIH",
        "outputId": "38e3e1a4-0237-4a6a-9fc7-9219085fcd3f"
      },
      "execution_count": 187,
      "outputs": [
        {
          "output_type": "execute_result",
          "data": {
            "text/plain": [
              "False"
            ]
          },
          "metadata": {},
          "execution_count": 187
        }
      ]
    },
    {
      "cell_type": "code",
      "source": [
        "#4.1\n",
        "x = np.array([6, 2, 0, 3, 0, 0, 5, 7, 0])\n",
        "indexes = np.where(x[:-1] == 0)[0] + 1\n",
        "max=np.max(x[indexes])\n",
        "max"
      ],
      "metadata": {
        "id": "L7uTKVNxHic5",
        "outputId": "303c64a2-96bd-4819-ea92-cc9432aff382",
        "colab": {
          "base_uri": "https://localhost:8080/"
        }
      },
      "execution_count": 259,
      "outputs": [
        {
          "output_type": "execute_result",
          "data": {
            "text/plain": [
              "7"
            ]
          },
          "metadata": {},
          "execution_count": 259
        }
      ]
    },
    {
      "cell_type": "code",
      "source": [
        "#4.2\n",
        "x = [6, 2, 0, 3, 0, 0, 5, 7, 0]\n",
        "s=x.copy()\n",
        "s.sort()\n",
        "max=s[0]\n",
        "for index, a in enumerate(x):\n",
        "  if((index+1)!=len(x)):\n",
        "    if (a==0) and (x[index+1]>max):\n",
        "      max=x[index+1]\n",
        "max"
      ],
      "metadata": {
        "id": "YrJNXICGKEOa",
        "outputId": "9ca6fa01-fdc8-4fc0-d99c-8f53895f8478",
        "colab": {
          "base_uri": "https://localhost:8080/"
        }
      },
      "execution_count": 258,
      "outputs": [
        {
          "output_type": "execute_result",
          "data": {
            "text/plain": [
              "7"
            ]
          },
          "metadata": {},
          "execution_count": 258
        }
      ]
    },
    {
      "cell_type": "code",
      "source": [
        "#4.3\n",
        "x = np.array([6, 2, 0, 3, 0, 0, 5, 7, 0])\n",
        "indexes = np.roll(x, 1)\n",
        "indexes=np.where(indexes==0)\n",
        "if (indexes[0][0]==0):\n",
        "  indexes=np.delete(indexes, 0);\n",
        "max=np.max(x[indexes])\n",
        "max"
      ],
      "metadata": {
        "id": "AzzqePhlhH8z",
        "outputId": "6284a7bf-0362-4e4a-92c5-e9f0a9e76659",
        "colab": {
          "base_uri": "https://localhost:8080/"
        }
      },
      "execution_count": 287,
      "outputs": [
        {
          "output_type": "execute_result",
          "data": {
            "text/plain": [
              "5"
            ]
          },
          "metadata": {},
          "execution_count": 287
        }
      ]
    },
    {
      "cell_type": "code",
      "source": [
        "#2.1"
      ],
      "metadata": {
        "id": "tbrCWsCol_bl"
      },
      "execution_count": 288,
      "outputs": []
    },
    {
      "cell_type": "code",
      "source": [
        "#2.2"
      ],
      "metadata": {
        "id": "u4EWpx1VmBAS"
      },
      "execution_count": 289,
      "outputs": []
    },
    {
      "cell_type": "code",
      "source": [
        "#2.3"
      ],
      "metadata": {
        "id": "Zw24fPzzmB4H"
      },
      "execution_count": null,
      "outputs": []
    }
  ]
}