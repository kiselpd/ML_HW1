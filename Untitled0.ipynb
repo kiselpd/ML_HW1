{
  "nbformat": 4,
  "nbformat_minor": 0,
  "metadata": {
    "colab": {
      "name": "Untitled0.ipynb",
      "provenance": [],
      "collapsed_sections": [],
      "authorship_tag": "ABX9TyOPsdhT52menSmouzGC0vFB",
      "include_colab_link": true
    },
    "kernelspec": {
      "name": "python3",
      "display_name": "Python 3"
    },
    "language_info": {
      "name": "python"
    }
  },
  "cells": [
    {
      "cell_type": "markdown",
      "metadata": {
        "id": "view-in-github",
        "colab_type": "text"
      },
      "source": [
        "<a href=\"https://colab.research.google.com/github/kiselpd/ML_HW1/blob/main/Untitled0.ipynb\" target=\"_parent\"><img src=\"https://colab.research.google.com/assets/colab-badge.svg\" alt=\"Open In Colab\"/></a>"
      ]
    },
    {
      "cell_type": "code",
      "execution_count": 4,
      "metadata": {
        "id": "iS6hVvFpQzG2"
      },
      "outputs": [],
      "source": [
        "%matplotlib inline\n",
        "import numpy as np"
      ]
    },
    {
      "cell_type": "code",
      "source": [
        "#1.1 with np\n",
        "%%timeit\n",
        "in_matrix=np.array([[1, 0, 1], [2, 0, 2], [3, 0, 3], [4, 4, 4]])\n",
        "out_matrix=np.where(in_matrix>0,in_matrix, 1)\n",
        "c=np.diag(np.diag(np.ones_like(in_matrix)))\n",
        "num_rows, num_cows = in_matrix.shape\n",
        "if num_rows<num_cows:\n",
        "  c=np.hstack((c, np.zeros((num_rows, num_cows-num_rows))))\n",
        "else:\n",
        "  c=np.vstack((c, np.zeros((num_rows-num_cows, num_cows))))\n",
        "diag_prod=np.prod(np.diag(c*out_matrix))\n",
        "diag_prod"
      ],
      "metadata": {
        "colab": {
          "base_uri": "https://localhost:8080/"
        },
        "id": "azl_2kbvWGEh",
        "outputId": "03777ad7-6e48-474a-8f49-abed1e293bd4"
      },
      "execution_count": 187,
      "outputs": [
        {
          "output_type": "stream",
          "name": "stdout",
          "text": [
            "The slowest run took 170.34 times longer than the fastest. This could mean that an intermediate result is being cached.\n",
            "10000 loops, best of 5: 37.2 µs per loop\n"
          ]
        }
      ]
    },
    {
      "cell_type": "code",
      "source": [
        "#1.2 with cycle\n",
        "%%timeit\n",
        "in_matrix=[[1, 0, 1], [2, 0, 2], [3, 0, 3], [4, 4, 4]]\n",
        "diag_prod=1\n",
        "for i in range(len(in_matrix[0])):\n",
        "  for j in range(len(in_matrix)):\n",
        "    if (i==j) and (in_matrix[i][j]>0):\n",
        "      diag_prod*=in_matrix[i][j]\n",
        "\n",
        "diag_prod"
      ],
      "metadata": {
        "colab": {
          "base_uri": "https://localhost:8080/"
        },
        "id": "nUoqd2GKuJMn",
        "outputId": "0f83c9ca-ecab-4ba4-cc2b-42178ed01ac1"
      },
      "execution_count": 188,
      "outputs": [
        {
          "output_type": "stream",
          "name": "stdout",
          "text": [
            "The slowest run took 6.13 times longer than the fastest. This could mean that an intermediate result is being cached.\n",
            "100000 loops, best of 5: 2.56 µs per loop\n"
          ]
        }
      ]
    },
    {
      "cell_type": "code",
      "source": [
        "#1.3 with np\n",
        "%%timeit\n",
        "in_matrix=np.array([[1, 0, 1], [4, 9, 4]])\n",
        "out_matrix=np.where(in_matrix>0,in_matrix, 1)\n",
        "num_rows, num_cows = in_matrix.shape\n",
        "c=np.eye(num_rows, num_cows)\n",
        "diag_prod=np.prod(np.diag(c*out_matrix))\n",
        "diag_prod"
      ],
      "metadata": {
        "colab": {
          "base_uri": "https://localhost:8080/"
        },
        "id": "JcWLzOUQ5Phb",
        "outputId": "fd7bdeef-439c-4a62-ec3e-441443791caf"
      },
      "execution_count": 197,
      "outputs": [
        {
          "output_type": "stream",
          "name": "stdout",
          "text": [
            "The slowest run took 9.62 times longer than the fastest. This could mean that an intermediate result is being cached.\n",
            "100000 loops, best of 5: 18.4 µs per loop\n"
          ]
        }
      ]
    }
  ]
}